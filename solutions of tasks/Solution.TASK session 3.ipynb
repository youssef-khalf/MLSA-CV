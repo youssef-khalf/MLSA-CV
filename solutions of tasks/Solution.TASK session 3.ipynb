{
 "cells": [
  {
   "cell_type": "code",
   "execution_count": 3,
   "id": "c5ba40e7",
   "metadata": {},
   "outputs": [
    {
     "data": {
      "application/vnd.jupyter.widget-view+json": {
       "model_id": "20af2864aba946d0949de04e507745c4",
       "version_major": 2,
       "version_minor": 0
      },
      "text/plain": [
       "interactive(children=(IntSlider(value=5, description='kernel_size', max=15, min=3, step=2), Output()), _dom_cl…"
      ]
     },
     "metadata": {},
     "output_type": "display_data"
    },
    {
     "data": {
      "text/plain": [
       "<function __main__.apply_filter(kernel_size)>"
      ]
     },
     "execution_count": 3,
     "metadata": {},
     "output_type": "execute_result"
    }
   ],
   "source": [
    "import cv2\n",
    "import numpy as np\n",
    "import matplotlib.pyplot as plt\n",
    "from ipywidgets import interact, widgets\n",
    "\n",
    "# Function to apply the averaging filter\n",
    "def apply_filter(kernel_size):\n",
    "    # Load an image\n",
    "    image = cv2.imread('brain.jpg.')\n",
    "\n",
    "    # Apply the averaging filter\n",
    "    averaged_image = cv2.blur(image, (kernel_size, kernel_size))\n",
    "\n",
    "    # Display the original and filtered images\n",
    "    plt.figure(figsize=(10, 5))\n",
    "    plt.subplot(1, 2, 1)\n",
    "    plt.imshow(cv2.cvtColor(image, cv2.COLOR_BGR2RGB))\n",
    "    plt.title('Original Image')\n",
    "    plt.axis('off')\n",
    "\n",
    "    plt.subplot(1, 2, 2)\n",
    "    plt.imshow(cv2.cvtColor(averaged_image, cv2.COLOR_BGR2RGB))\n",
    "    plt.title('Averaged Image')\n",
    "    plt.axis('off')\n",
    "\n",
    "    plt.show()\n",
    "\n",
    "# Interactive widget for kernel size\n",
    "interact(apply_filter, kernel_size=widgets.IntSlider(min=3, max=15, step=2, value=5))"
   ]
  },
  {
   "cell_type": "code",
   "execution_count": 5,
   "id": "8556acdf",
   "metadata": {},
   "outputs": [
    {
     "data": {
      "application/vnd.jupyter.widget-view+json": {
       "model_id": "5533917f3d394b3cb3bbf99edcb7bcc2",
       "version_major": 2,
       "version_minor": 0
      },
      "text/plain": [
       "interactive(children=(Dropdown(description='Image:', options=('brain.jpg', 'R.jpeg', 'portrait.jpg', 'animal.j…"
      ]
     },
     "metadata": {},
     "output_type": "display_data"
    },
    {
     "data": {
      "text/plain": [
       "<function __main__.apply_filters(image_path, kernel_size, threshold)>"
      ]
     },
     "execution_count": 5,
     "metadata": {},
     "output_type": "execute_result"
    }
   ],
   "source": [
    "import cv2\n",
    "import numpy as np\n",
    "import matplotlib.pyplot as plt\n",
    "from ipywidgets import interact, widgets\n",
    "\n",
    "# Function to apply the Gaussian filter and Sobel filter\n",
    "def apply_filters(image_path, kernel_size, threshold):\n",
    "    # Load an image\n",
    "    image = cv2.imread(image_path)\n",
    "\n",
    "    # Apply the Gaussian filter\n",
    "    gaussian_image = cv2.GaussianBlur(image, (kernel_size, kernel_size), 0)\n",
    "\n",
    "    # Convert the image to grayscale\n",
    "    grayscale_image = cv2.cvtColor(gaussian_image, cv2.COLOR_BGR2GRAY)\n",
    "\n",
    "    # Apply the Sobel filter\n",
    "    sobelx = cv2.Sobel(grayscale_image, cv2.CV_64F, 1, 0, ksize=kernel_size)\n",
    "    sobely = cv2.Sobel(grayscale_image, cv2.CV_64F, 0, 1, ksize=kernel_size)\n",
    "    magnitude = np.sqrt(sobelx**2 + sobely**2)\n",
    "\n",
    "    # Apply thresholding\n",
    "    _, thresholded_image = cv2.threshold(magnitude, threshold, 255, cv2.THRESH_BINARY)\n",
    "\n",
    "    # Display the original and filtered images\n",
    "    plt.figure(figsize=(15, 5))\n",
    "    plt.subplot(1, 3, 1)\n",
    "    plt.imshow(cv2.cvtColor(image, cv2.COLOR_BGR2RGB))\n",
    "    plt.title('Original Image')\n",
    "    plt.axis('off')\n",
    "\n",
    "    plt.subplot(1, 3, 2)\n",
    "    plt.imshow(cv2.cvtColor(gaussian_image, cv2.COLOR_BGR2RGB))\n",
    "    plt.title('Gaussian Filter ({}x{})'.format(kernel_size, kernel_size))\n",
    "    plt.axis('off')\n",
    "\n",
    "    plt.subplot(1, 3, 3)\n",
    "    plt.imshow(thresholded_image, cmap='gray')\n",
    "    plt.title('Thresholded Sobel Magnitude (Threshold: {})'.format(threshold))\n",
    "    plt.axis('off')\n",
    "\n",
    "    plt.show()\n",
    "\n",
    "# Interactive widget for kernel size and threshold\n",
    "interact(apply_filters, image_path=widgets.Dropdown(options=['brain.jpg', 'R.jpeg', 'portrait.jpg', 'animal.jpg', 'architecture.jpg'], value='brain.jpg', description='Image:'), \n",
    "         kernel_size=widgets.IntSlider(min=3, max=15, step=2, value=5, description='Kernel Size:'),\n",
    "         threshold=widgets.IntSlider(min=0, max=255, step=1, value=100, description='Threshold:'))"
   ]
  },
  {
   "cell_type": "markdown",
   "id": "1c2c4857",
   "metadata": {},
   "source": [
    "# explain the code indetail"
   ]
  },
  {
   "cell_type": "markdown",
   "id": "c3fb0c9a",
   "metadata": {},
   "source": [
    "Certainly! Let's break down the line of code `_, thresholded_image = cv2.threshold(magnitude, threshold, 255, cv2.THRESH_BINARY)`:\n",
    "\n",
    "- `cv2.threshold()`: This function is used to apply thresholding to an image.\n",
    "- `magnitude`: This is the input image to which the thresholding operation is applied. In this case, it's the gradient magnitude image obtained from applying the Sobel filter.\n",
    "- `threshold`: This is the threshold value used for thresholding. Pixels in the input image with intensity values higher than this threshold will be set to the maximum value (255 in this case), while pixels with intensity values lower than or equal to the threshold will be set to 0.\n",
    "- `255`: This is the maximum intensity value that pixels can have after thresholding. In this case, it's set to 255, which represents white in the output image.\n",
    "- `cv2.THRESH_BINARY`: This is the thresholding method used. `cv2.THRESH_BINARY` indicates that pixels with intensity values higher than the threshold will be set to the maximum value (255), and pixels with intensity values lower than or equal to the threshold will be set to 0.\n",
    "\n",
    "Now, regarding the `_` in the code:\n",
    "\n",
    "- `_`: In Python, the underscore `_` is often used as a placeholder for variables that are not going to be used. In this case, `cv2.threshold()` returns a tuple containing two values: the threshold value used (`threshold`) and the thresholded image (`thresholded_image`). Since we are not interested in the threshold value itself, we use `_` to indicate that we are ignoring it. The thresholded image is assigned to the variable `thresholded_image`.\n",
    "\n",
    "So, in summary, this line of code applies thresholding to the gradient magnitude image (`magnitude`) using the specified threshold value (`threshold`) and the binary thresholding method (`cv2.THRESH_BINARY`). The resulting thresholded image is stored in the variable `thresholded_image`."
   ]
  }
 ],
 "metadata": {
  "kernelspec": {
   "display_name": "Python 3 (ipykernel)",
   "language": "python",
   "name": "python3"
  },
  "language_info": {
   "codemirror_mode": {
    "name": "ipython",
    "version": 3
   },
   "file_extension": ".py",
   "mimetype": "text/x-python",
   "name": "python",
   "nbconvert_exporter": "python",
   "pygments_lexer": "ipython3",
   "version": "3.11.3"
  }
 },
 "nbformat": 4,
 "nbformat_minor": 5
}
